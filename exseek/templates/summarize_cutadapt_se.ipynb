{
 "cells": [
  {
   "cell_type": "code",
   "execution_count": null,
   "metadata": {},
   "outputs": [],
   "source": [
    "%pylab inline"
   ]
  },
  {
   "cell_type": "code",
   "execution_count": null,
   "metadata": {},
   "outputs": [],
   "source": [
    "import numpy as np\n",
    "import pandas as pd\n",
    "from IPython.display import display\n",
    "\n",
    "def gradient_func(val):\n",
    "    return '<span style=\"background: linear-gradient(90deg, #d65f5f {0}%, transparent 0%)\">{0:.3f}</span>'.format(val)"
   ]
  },
  {
   "cell_type": "code",
   "execution_count": null,
   "metadata": {},
   "outputs": [],
   "source": [
    "summary = pd.read_table('cutadapt.txt', sep='\\t', index_col=0)\n",
    "summary_reads = summary.loc[:, ['total_reads', 'reads_with_adapters', 'reads_too_short', 'reads_kept']]\n",
    "display(summary_reads.style.set_caption('Reads summary'))"
   ]
  },
  {
   "cell_type": "code",
   "execution_count": null,
   "metadata": {},
   "outputs": [],
   "source": [
    "percent_reads = 100.0*summary_reads.div(summary_reads['total_reads'], axis=0)\n",
    "percent_reads.drop(columns=['total_reads'], inplace=True)\n",
    "display(percent_reads.style.format(gradient_func).set_caption('Reads percentage'))"
   ]
  },
  {
   "cell_type": "code",
   "execution_count": null,
   "metadata": {},
   "outputs": [],
   "source": [
    "summary_bp = summary.loc[:, ['total_bp', 'bp_quality_trimmed', 'bp_kept']]\n",
    "display(summary_bp.style.set_caption('Base pairs summary'))"
   ]
  },
  {
   "cell_type": "code",
   "execution_count": null,
   "metadata": {},
   "outputs": [],
   "source": [
    "percent_bp = 100.0*summary_bp.div(summary_bp['total_bp'], axis=0)\n",
    "percent_bp.drop(columns=['total_bp'], inplace=True)\n",
    "display(percent_bp.style.format(gradient_func).set_caption('Base pairs percentage'))"
   ]
  }
 ],
 "metadata": {
  "kernelspec": {
   "display_name": "Python 3",
   "language": "python",
   "name": "python3"
  },
  "language_info": {
   "codemirror_mode": {
    "name": "ipython",
    "version": 3
   },
   "file_extension": ".py",
   "mimetype": "text/x-python",
   "name": "python",
   "nbconvert_exporter": "python",
   "pygments_lexer": "ipython3",
   "version": "3.6.6"
  },
  "toc": {
   "base_numbering": 1,
   "nav_menu": {},
   "number_sections": true,
   "sideBar": true,
   "skip_h1_title": false,
   "title_cell": "Table of Contents",
   "title_sidebar": "Contents",
   "toc_cell": false,
   "toc_position": {},
   "toc_section_display": true,
   "toc_window_display": false
  }
 },
 "nbformat": 4,
 "nbformat_minor": 2
}
