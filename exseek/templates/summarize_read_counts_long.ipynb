{
 "cells": [
  {
   "cell_type": "code",
   "execution_count": null,
   "metadata": {},
   "outputs": [],
   "source": [
    "%pylab inline"
   ]
  },
  {
   "cell_type": "code",
   "execution_count": null,
   "metadata": {},
   "outputs": [],
   "source": [
    "import seaborn as sns\n",
    "sns.set_style('whitegrid')\n",
    "import pandas as pd\n",
    "from IPython.display import display"
   ]
  },
  {
   "cell_type": "code",
   "execution_count": null,
   "metadata": {},
   "outputs": [],
   "source": [
    "read_counts = pd.read_table('read_counts.txt', index_col=0)\n",
    "read_counts = read_counts.T\n",
    "\n",
    "rna_types = read_counts.columns.tolist()\n",
    "rna_types.remove('clean')\n",
    "rna_types_included = list(rna_types)\n",
    "for rna_type in ('genome', 'rRNA'):\n",
    "    rna_types_included.remove(rna_type)\n",
    "\n",
    "def gradient_func(val):\n",
    "    return '<span style=\"background: linear-gradient(90deg, #d65f5f {0}%, transparent 0%)\">{0:.3f}</span>'.format(val)\n",
    "\n",
    "# percentage by clean reads\n",
    "display(read_counts.style.set_caption('Read counts'))"
   ]
  },
  {
   "cell_type": "code",
   "execution_count": null,
   "metadata": {},
   "outputs": [],
   "source": [
    "percent_by_clean = read_counts.loc[:, ['clean', 'rRNA', 'genome', 'circRNA']].copy()\n",
    "percent_by_clean = 100.0*percent_by_clean.div(percent_by_clean.loc[:, 'clean'], axis=0)\n",
    "percent_by_clean.drop(columns='clean', inplace=True)\n",
    "percent_by_clean['unmapped'] = 100 - percent_by_clean.sum(axis=1)\n",
    "display(percent_by_clean.style.format(gradient_func).set_caption('Percentage by clean reads'))"
   ]
  },
  {
   "cell_type": "code",
   "execution_count": null,
   "metadata": {},
   "outputs": [],
   "source": [
    "percent_by_mapped = read_counts.copy()\n",
    "percent_by_mapped = 100.0*percent_by_mapped.div(percent_by_mapped.loc[:, ['genome', 'circRNA']].sum(axis=1), axis=0)\n",
    "percent_by_mapped.drop(columns=['rRNA', 'genome', 'clean'], inplace=True)\n",
    "percent_by_mapped['other'] = 100.0 - percent_by_mapped.sum(axis=1)\n",
    "display(percent_by_mapped.style.format(gradient_func).set_caption('Percentage by mapped reads'))"
   ]
  },
  {
   "cell_type": "code",
   "execution_count": null,
   "metadata": {},
   "outputs": [],
   "source": []
  }
 ],
 "metadata": {
  "kernelspec": {
   "display_name": "Python 3",
   "language": "python",
   "name": "python3"
  },
  "language_info": {
   "codemirror_mode": {
    "name": "ipython",
    "version": 3
   },
   "file_extension": ".py",
   "mimetype": "text/x-python",
   "name": "python",
   "nbconvert_exporter": "python",
   "pygments_lexer": "ipython3",
   "version": "3.6.6"
  },
  "toc": {
   "base_numbering": 1,
   "nav_menu": {},
   "number_sections": true,
   "sideBar": true,
   "skip_h1_title": false,
   "title_cell": "Table of Contents",
   "title_sidebar": "Contents",
   "toc_cell": false,
   "toc_position": {},
   "toc_section_display": true,
   "toc_window_display": false
  }
 },
 "nbformat": 4,
 "nbformat_minor": 2
}
